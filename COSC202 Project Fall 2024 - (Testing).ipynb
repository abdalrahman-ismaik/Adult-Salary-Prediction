{
 "cells": [
  {
   "cell_type": "code",
   "execution_count": 1,
   "id": "dce9dc7a",
   "metadata": {},
   "outputs": [],
   "source": [
    "# COSC202 Project Fall 2024\n",
    "# Testing NoteBook\n",
    "# Group 5:\n",
    "# - Abd Alrahman Ismaik     (1000#####)\n",
    "# - Abdulrahman Abdulrahman (1000#####)\n",
    "# - Abdulaziz Alyazidi      (1000#####)"
   ]
  },
  {
   "cell_type": "code",
   "execution_count": 2,
   "id": "d1debc88-3b43-451a-aa89-c37f8949d25b",
   "metadata": {},
   "outputs": [],
   "source": [
    "import pandas as pd\n",
    "file = \"Datasets\\\\adult_real.csv\"\n",
    "data = pd.read_csv(file)"
   ]
  },
  {
   "cell_type": "code",
   "execution_count": 3,
   "id": "b0923527",
   "metadata": {},
   "outputs": [],
   "source": [
    "import numpy as np\n",
    "data.replace(' ?', np.nan, inplace=True)"
   ]
  },
  {
   "cell_type": "code",
   "execution_count": 4,
   "id": "c55676ec",
   "metadata": {},
   "outputs": [],
   "source": [
    "data = data.dropna(how='all')"
   ]
  },
  {
   "cell_type": "code",
   "execution_count": 5,
   "id": "25f3c73e",
   "metadata": {},
   "outputs": [],
   "source": [
    "data['capital-loss'] = np.log1p(data['capital-loss'])"
   ]
  },
  {
   "cell_type": "code",
   "execution_count": 6,
   "id": "caf54e22",
   "metadata": {},
   "outputs": [],
   "source": [
    "data['age'] = data['age'].abs()"
   ]
  },
  {
   "cell_type": "code",
   "execution_count": 7,
   "id": "a71bf08b",
   "metadata": {},
   "outputs": [],
   "source": [
    "binary_mapping = {' <=50K.': 0.0, ' >50K.': 1.0}\n",
    "data['class'] = data['class'].map(binary_mapping)"
   ]
  },
  {
   "cell_type": "code",
   "execution_count": 8,
   "id": "e2332e38",
   "metadata": {},
   "outputs": [],
   "source": [
    "data.drop_duplicates(inplace= True)"
   ]
  },
  {
   "cell_type": "code",
   "execution_count": 9,
   "id": "d31f2f6b",
   "metadata": {},
   "outputs": [],
   "source": [
    "education_mapping = {\n",
    "    ' Preschool': 0,\n",
    "    ' 1st-4th': 1,\n",
    "    ' 5th-6th': 2,\n",
    "    ' 7th-8th': 3,\n",
    "    ' 9th': 4,\n",
    "    ' 10th': 5,\n",
    "    ' 11th': 6,\n",
    "    ' 12th': 7,\n",
    "    ' HS-grad': 8,\n",
    "    ' Some-college': 9,\n",
    "    ' Assoc-voc': 10,\n",
    "    ' Assoc-acdm': 11,\n",
    "    ' Bachelors': 12,\n",
    "    ' Masters': 13,\n",
    "    ' Prof-school': 14,\n",
    "    ' Doctorate': 15\n",
    "}\n",
    "\n",
    "data['education'] = data['education'].map(education_mapping)"
   ]
  },
  {
   "cell_type": "code",
   "execution_count": 10,
   "id": "f58e9c20",
   "metadata": {},
   "outputs": [],
   "source": [
    "data = data.drop(\"education-num\", axis=1)\n",
    "data = data.drop(\"fnlwgt\", axis=1)\n",
    "data = data.drop(\"capital-gain\", axis=1)"
   ]
  },
  {
   "cell_type": "code",
   "execution_count": 11,
   "id": "9d24f6af",
   "metadata": {},
   "outputs": [],
   "source": [
    "data['occupation'] = data['occupation'].fillna(' Missing')"
   ]
  },
  {
   "cell_type": "code",
   "execution_count": 12,
   "id": "4b3f0041",
   "metadata": {},
   "outputs": [],
   "source": [
    "data['sex'] = data['sex'].apply(lambda x: x if x in [\" Male\", \" Female\"] else \" Missing\")"
   ]
  },
  {
   "cell_type": "code",
   "execution_count": 13,
   "id": "515dcc52",
   "metadata": {},
   "outputs": [],
   "source": [
    "data[\"race\"] = data['race'].fillna(\" Other\")"
   ]
  },
  {
   "cell_type": "code",
   "execution_count": 14,
   "id": "df3b0e3c",
   "metadata": {},
   "outputs": [],
   "source": [
    "most_frequent_country = data['native-country'].mode()[0]\n",
    "data['native-country'] = data['native-country'].fillna(most_frequent_country)\n",
    "data['native-country'] = data['native-country'].apply(lambda x: 1.0 if x == ' United-States' else 0.0)"
   ]
  },
  {
   "cell_type": "code",
   "execution_count": 15,
   "id": "54f01773",
   "metadata": {},
   "outputs": [],
   "source": [
    "data['workclass'] = data['workclass'].fillna(\" Private\")"
   ]
  },
  {
   "cell_type": "code",
   "execution_count": 16,
   "id": "baba4eea",
   "metadata": {},
   "outputs": [],
   "source": [
    "# load the imputer\n",
    "import pickle\n",
    "\n",
    "with open('median_imputer.pkl', 'rb') as f:\n",
    "    loaded_imputer = pickle.load(f)\n",
    "\n",
    "numerical_cols = data.select_dtypes(include=['float64', 'int64']).columns\n",
    "data[numerical_cols] = loaded_imputer.transform(data[numerical_cols])"
   ]
  },
  {
   "cell_type": "code",
   "execution_count": 17,
   "id": "d0edc4ee",
   "metadata": {},
   "outputs": [],
   "source": [
    "# One Hot encode the remaining categorical data\n",
    "data_encoded = pd.get_dummies(\n",
    "    data, \n",
    "    columns=['workclass', 'marital-status', 'occupation',\n",
    "       'relationship', 'race', 'sex'],\n",
    "    )\n",
    "\n",
    "data_encoded = data_encoded.astype(float)"
   ]
  },
  {
   "cell_type": "code",
   "execution_count": 18,
   "id": "b3ff21b3",
   "metadata": {},
   "outputs": [],
   "source": [
    "data_encoded = data_encoded.drop(\"workclass_ Without-pay\", axis=1)\n",
    "data_encoded = data_encoded.drop(\"sex_ Missing\", axis=1)\n",
    "data_encoded = data_encoded.drop(\"marital-status_ Married-AF-spouse\", axis=1)"
   ]
  },
  {
   "cell_type": "code",
   "execution_count": 19,
   "id": "80b9ce10",
   "metadata": {},
   "outputs": [],
   "source": [
    "X = data_encoded.drop(\"class\",axis=1)\n",
    "y = data_encoded[\"class\"]"
   ]
  },
  {
   "cell_type": "code",
   "execution_count": 20,
   "id": "89c5e84d",
   "metadata": {},
   "outputs": [
    {
     "data": {
      "text/plain": [
       "array([[ 0.46310356,  0.14922965, -0.26318227, ...,  0.44945799,\n",
       "        -0.59307542,  0.67553839],\n",
       "       [ 0.08194977,  0.53726014, -0.26318227, ...,  0.44945799,\n",
       "        -0.59307542,  0.67553839],\n",
       "       [-0.83281933, -0.23880084, -0.26318227, ...,  0.44945799,\n",
       "        -0.59307542,  0.67553839],\n",
       "       ...,\n",
       "       [-0.1467425 ,  0.92529063, -0.26318227, ...,  0.44945799,\n",
       "         1.75075602, -1.55452902],\n",
       "       [-1.67135767, -2.17895329, -0.26318227, ...,  0.44945799,\n",
       "        -0.59307542,  0.67553839],\n",
       "       [ 0.99671887, -2.56698378, -0.26318227, ...,  0.44945799,\n",
       "         1.75075602, -1.55452902]])"
      ]
     },
     "execution_count": 20,
     "metadata": {},
     "output_type": "execute_result"
    }
   ],
   "source": [
    "with open(\"scaler.pkl\",\"rb\") as file:\n",
    "    loaded_imputer = pickle.load(file)\n",
    "\n",
    "X = loaded_imputer.transform(X)\n",
    "X"
   ]
  },
  {
   "cell_type": "code",
   "execution_count": 21,
   "id": "53fb6a3c",
   "metadata": {},
   "outputs": [
    {
     "data": {
      "text/html": [
       "<pre style=\"white-space:pre;overflow-x:auto;line-height:normal;font-family:Menlo,'DejaVu Sans Mono',consolas,'Courier New',monospace\"><span style=\"font-weight: bold\">Model: \"sequential_4\"</span>\n",
       "</pre>\n"
      ],
      "text/plain": [
       "\u001b[1mModel: \"sequential_4\"\u001b[0m\n"
      ]
     },
     "metadata": {},
     "output_type": "display_data"
    },
    {
     "data": {
      "text/html": [
       "<pre style=\"white-space:pre;overflow-x:auto;line-height:normal;font-family:Menlo,'DejaVu Sans Mono',consolas,'Courier New',monospace\">┏━━━━━━━━━━━━━━━━━━━━━━━━━━━━━━━━━┳━━━━━━━━━━━━━━━━━━━━━━━━┳━━━━━━━━━━━━━━━┓\n",
       "┃<span style=\"font-weight: bold\"> Layer (type)                    </span>┃<span style=\"font-weight: bold\"> Output Shape           </span>┃<span style=\"font-weight: bold\">       Param # </span>┃\n",
       "┡━━━━━━━━━━━━━━━━━━━━━━━━━━━━━━━━━╇━━━━━━━━━━━━━━━━━━━━━━━━╇━━━━━━━━━━━━━━━┩\n",
       "│ dense_15 (<span style=\"color: #0087ff; text-decoration-color: #0087ff\">Dense</span>)                │ (<span style=\"color: #00d7ff; text-decoration-color: #00d7ff\">None</span>, <span style=\"color: #00af00; text-decoration-color: #00af00\">256</span>)            │        <span style=\"color: #00af00; text-decoration-color: #00af00\">11,776</span> │\n",
       "├─────────────────────────────────┼────────────────────────┼───────────────┤\n",
       "│ dense_16 (<span style=\"color: #0087ff; text-decoration-color: #0087ff\">Dense</span>)                │ (<span style=\"color: #00d7ff; text-decoration-color: #00d7ff\">None</span>, <span style=\"color: #00af00; text-decoration-color: #00af00\">256</span>)            │        <span style=\"color: #00af00; text-decoration-color: #00af00\">65,792</span> │\n",
       "├─────────────────────────────────┼────────────────────────┼───────────────┤\n",
       "│ dense_17 (<span style=\"color: #0087ff; text-decoration-color: #0087ff\">Dense</span>)                │ (<span style=\"color: #00d7ff; text-decoration-color: #00d7ff\">None</span>, <span style=\"color: #00af00; text-decoration-color: #00af00\">256</span>)            │        <span style=\"color: #00af00; text-decoration-color: #00af00\">65,792</span> │\n",
       "├─────────────────────────────────┼────────────────────────┼───────────────┤\n",
       "│ dense_18 (<span style=\"color: #0087ff; text-decoration-color: #0087ff\">Dense</span>)                │ (<span style=\"color: #00d7ff; text-decoration-color: #00d7ff\">None</span>, <span style=\"color: #00af00; text-decoration-color: #00af00\">1</span>)              │           <span style=\"color: #00af00; text-decoration-color: #00af00\">257</span> │\n",
       "└─────────────────────────────────┴────────────────────────┴───────────────┘\n",
       "</pre>\n"
      ],
      "text/plain": [
       "┏━━━━━━━━━━━━━━━━━━━━━━━━━━━━━━━━━┳━━━━━━━━━━━━━━━━━━━━━━━━┳━━━━━━━━━━━━━━━┓\n",
       "┃\u001b[1m \u001b[0m\u001b[1mLayer (type)                   \u001b[0m\u001b[1m \u001b[0m┃\u001b[1m \u001b[0m\u001b[1mOutput Shape          \u001b[0m\u001b[1m \u001b[0m┃\u001b[1m \u001b[0m\u001b[1m      Param #\u001b[0m\u001b[1m \u001b[0m┃\n",
       "┡━━━━━━━━━━━━━━━━━━━━━━━━━━━━━━━━━╇━━━━━━━━━━━━━━━━━━━━━━━━╇━━━━━━━━━━━━━━━┩\n",
       "│ dense_15 (\u001b[38;5;33mDense\u001b[0m)                │ (\u001b[38;5;45mNone\u001b[0m, \u001b[38;5;34m256\u001b[0m)            │        \u001b[38;5;34m11,776\u001b[0m │\n",
       "├─────────────────────────────────┼────────────────────────┼───────────────┤\n",
       "│ dense_16 (\u001b[38;5;33mDense\u001b[0m)                │ (\u001b[38;5;45mNone\u001b[0m, \u001b[38;5;34m256\u001b[0m)            │        \u001b[38;5;34m65,792\u001b[0m │\n",
       "├─────────────────────────────────┼────────────────────────┼───────────────┤\n",
       "│ dense_17 (\u001b[38;5;33mDense\u001b[0m)                │ (\u001b[38;5;45mNone\u001b[0m, \u001b[38;5;34m256\u001b[0m)            │        \u001b[38;5;34m65,792\u001b[0m │\n",
       "├─────────────────────────────────┼────────────────────────┼───────────────┤\n",
       "│ dense_18 (\u001b[38;5;33mDense\u001b[0m)                │ (\u001b[38;5;45mNone\u001b[0m, \u001b[38;5;34m1\u001b[0m)              │           \u001b[38;5;34m257\u001b[0m │\n",
       "└─────────────────────────────────┴────────────────────────┴───────────────┘\n"
      ]
     },
     "metadata": {},
     "output_type": "display_data"
    },
    {
     "data": {
      "text/html": [
       "<pre style=\"white-space:pre;overflow-x:auto;line-height:normal;font-family:Menlo,'DejaVu Sans Mono',consolas,'Courier New',monospace\"><span style=\"font-weight: bold\"> Total params: </span><span style=\"color: #00af00; text-decoration-color: #00af00\">430,853</span> (1.64 MB)\n",
       "</pre>\n"
      ],
      "text/plain": [
       "\u001b[1m Total params: \u001b[0m\u001b[38;5;34m430,853\u001b[0m (1.64 MB)\n"
      ]
     },
     "metadata": {},
     "output_type": "display_data"
    },
    {
     "data": {
      "text/html": [
       "<pre style=\"white-space:pre;overflow-x:auto;line-height:normal;font-family:Menlo,'DejaVu Sans Mono',consolas,'Courier New',monospace\"><span style=\"font-weight: bold\"> Trainable params: </span><span style=\"color: #00af00; text-decoration-color: #00af00\">143,617</span> (561.00 KB)\n",
       "</pre>\n"
      ],
      "text/plain": [
       "\u001b[1m Trainable params: \u001b[0m\u001b[38;5;34m143,617\u001b[0m (561.00 KB)\n"
      ]
     },
     "metadata": {},
     "output_type": "display_data"
    },
    {
     "data": {
      "text/html": [
       "<pre style=\"white-space:pre;overflow-x:auto;line-height:normal;font-family:Menlo,'DejaVu Sans Mono',consolas,'Courier New',monospace\"><span style=\"font-weight: bold\"> Non-trainable params: </span><span style=\"color: #00af00; text-decoration-color: #00af00\">0</span> (0.00 B)\n",
       "</pre>\n"
      ],
      "text/plain": [
       "\u001b[1m Non-trainable params: \u001b[0m\u001b[38;5;34m0\u001b[0m (0.00 B)\n"
      ]
     },
     "metadata": {},
     "output_type": "display_data"
    },
    {
     "data": {
      "text/html": [
       "<pre style=\"white-space:pre;overflow-x:auto;line-height:normal;font-family:Menlo,'DejaVu Sans Mono',consolas,'Courier New',monospace\"><span style=\"font-weight: bold\"> Optimizer params: </span><span style=\"color: #00af00; text-decoration-color: #00af00\">287,236</span> (1.10 MB)\n",
       "</pre>\n"
      ],
      "text/plain": [
       "\u001b[1m Optimizer params: \u001b[0m\u001b[38;5;34m287,236\u001b[0m (1.10 MB)\n"
      ]
     },
     "metadata": {},
     "output_type": "display_data"
    }
   ],
   "source": [
    "from tensorflow import keras\n",
    "loaded_model = keras.models.load_model(\"trained_model.keras\")\n",
    "loaded_model.summary()"
   ]
  },
  {
   "cell_type": "code",
   "execution_count": 22,
   "id": "c181b0f2",
   "metadata": {},
   "outputs": [
    {
     "name": "stdout",
     "output_type": "stream",
     "text": [
      "\u001b[1m77/77\u001b[0m \u001b[32m━━━━━━━━━━━━━━━━━━━━\u001b[0m\u001b[37m\u001b[0m \u001b[1m0s\u001b[0m 1ms/step  \n"
     ]
    }
   ],
   "source": [
    "predictions = loaded_model.predict(X)"
   ]
  },
  {
   "cell_type": "code",
   "execution_count": 23,
   "id": "b0452794",
   "metadata": {},
   "outputs": [
    {
     "name": "stdout",
     "output_type": "stream",
     "text": [
      "\u001b[1m77/77\u001b[0m \u001b[32m━━━━━━━━━━━━━━━━━━━━\u001b[0m\u001b[37m\u001b[0m \u001b[1m0s\u001b[0m 992us/step - accuracy: 0.8016 - loss: 0.6434\n",
      "Test accuracy: 0.8023\n"
     ]
    }
   ],
   "source": [
    "test_loss, test_acc = loaded_model.evaluate(X, y)\n",
    "print(f'Test accuracy: {test_acc:.4f}')"
   ]
  }
 ],
 "metadata": {
  "kernelspec": {
   "display_name": "Python 3",
   "language": "python",
   "name": "python3"
  },
  "language_info": {
   "codemirror_mode": {
    "name": "ipython",
    "version": 3
   },
   "file_extension": ".py",
   "mimetype": "text/x-python",
   "name": "python",
   "nbconvert_exporter": "python",
   "pygments_lexer": "ipython3",
   "version": "3.12.1"
  }
 },
 "nbformat": 4,
 "nbformat_minor": 5
}
